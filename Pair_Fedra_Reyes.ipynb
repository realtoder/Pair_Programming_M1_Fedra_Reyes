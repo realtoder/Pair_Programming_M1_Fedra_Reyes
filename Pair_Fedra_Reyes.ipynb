{
 "cells": [
  {
   "cell_type": "code",
   "execution_count": null,
   "metadata": {},
   "outputs": [],
   "source": [
    "#1. Imprimir los números del 1 al 5 utilizando un bucle for\n",
    "Descripción: Utiliza un bucle for para imprimir los números del 1 al 5 (incluido) en orden ascendente."
   ]
  },
  {
   "cell_type": "code",
   "execution_count": 4,
   "metadata": {},
   "outputs": [
    {
     "name": "stdout",
     "output_type": "stream",
     "text": [
      "1\n",
      "2\n",
      "3\n",
      "4\n",
      "5\n"
     ]
    }
   ],
   "source": [
    "for x in range(1,6):\n",
    "    print(x)"
   ]
  },
  {
   "cell_type": "markdown",
   "metadata": {},
   "source": [
    "2. Calcular la suma de los primeros 10 números naturales utilizando un bucle for\n",
    "Descripción: Utiliza un bucle for para calcular la suma de los primeros 10 números naturales (1 + 2 + 3 + ... + 10)."
   ]
  },
  {
   "cell_type": "code",
   "execution_count": 5,
   "metadata": {},
   "outputs": [
    {
     "name": "stdout",
     "output_type": "stream",
     "text": [
      "55\n"
     ]
    }
   ],
   "source": [
    "lista_naturales = [1, 2, 3, 4, 5, 6, 7, 8, 9, 10]\n",
    "suma = 0\n",
    "\n",
    "for num in lista_naturales:\n",
    "    suma = suma + num\n",
    "print(suma)"
   ]
  },
  {
   "cell_type": "code",
   "execution_count": 22,
   "metadata": {},
   "outputs": [
    {
     "name": "stdout",
     "output_type": "stream",
     "text": [
      "55\n"
     ]
    }
   ],
   "source": [
    "# Opción de Carla\n",
    "\n",
    "suma = 0  \n",
    "for num in range(1, 11):  \n",
    "    suma = suma + num\n",
    "print(suma)"
   ]
  },
  {
   "cell_type": "code",
   "execution_count": null,
   "metadata": {},
   "outputs": [],
   "source": []
  },
  {
   "cell_type": "code",
   "execution_count": null,
   "metadata": {},
   "outputs": [],
   "source": [
    "# 3. Calcular el producto de los elementos de una lista\n",
    "# Descripción: Dada una lista de números, utiliza un bucle for para calcular el producto de todos los elementos."
   ]
  },
  {
   "cell_type": "code",
   "execution_count": 23,
   "metadata": {},
   "outputs": [
    {
     "name": "stdout",
     "output_type": "stream",
     "text": [
      "80\n"
     ]
    }
   ],
   "source": [
    "lista_2 = [2, 5, 8]\n",
    "producto = 1\n",
    "for num in lista_2:\n",
    "    producto = producto * num\n",
    "print(producto)\n"
   ]
  },
  {
   "cell_type": "code",
   "execution_count": 25,
   "metadata": {},
   "outputs": [
    {
     "name": "stdout",
     "output_type": "stream",
     "text": [
      "3628800\n"
     ]
    }
   ],
   "source": [
    "# Opción de Carla con un range de 1-11\n",
    "producto = 1  \n",
    "for num in range(1, 11):  \n",
    "    producto = producto * num \n",
    "print(producto)"
   ]
  },
  {
   "cell_type": "code",
   "execution_count": null,
   "metadata": {},
   "outputs": [],
   "source": [
    "# 4. Imprimir los caracteres de una cadena de texto\n",
    "# Descripción: Dada una cadena de texto, utiliza un bucle for para imprimir cada carácter en una línea separada."
   ]
  },
  {
   "cell_type": "code",
   "execution_count": 27,
   "metadata": {},
   "outputs": [
    {
     "name": "stdout",
     "output_type": "stream",
     "text": [
      "P\n",
      "y\n",
      "t\n",
      "h\n",
      "o\n",
      "n\n",
      " \n",
      "e\n",
      "s\n",
      " \n",
      "u\n",
      "n\n",
      "a\n",
      " \n",
      "p\n",
      "e\n",
      "s\n",
      "a\n",
      "d\n",
      "i\n",
      "l\n",
      "l\n",
      "a\n"
     ]
    }
   ],
   "source": [
    "nuestra_frase = 'Python es una pesadilla'\n",
    "for l in nuestra_frase:\n",
    "    print(l)"
   ]
  },
  {
   "cell_type": "code",
   "execution_count": null,
   "metadata": {},
   "outputs": [],
   "source": [
    "# 5. Imprimir los números pares del 1 al 100 utilizando un bucle for\n",
    "# Descripción: Utiliza un bucle for para imprimir los números pares del 1 al 100 en orden ascendente."
   ]
  },
  {
   "cell_type": "code",
   "execution_count": 31,
   "metadata": {},
   "outputs": [
    {
     "name": "stdout",
     "output_type": "stream",
     "text": [
      "0\n",
      "2\n",
      "4\n",
      "6\n",
      "8\n",
      "10\n",
      "12\n",
      "14\n",
      "16\n",
      "18\n",
      "20\n",
      "22\n",
      "24\n",
      "26\n",
      "28\n",
      "30\n",
      "32\n",
      "34\n",
      "36\n",
      "38\n",
      "40\n",
      "42\n",
      "44\n",
      "46\n",
      "48\n",
      "50\n",
      "52\n",
      "54\n",
      "56\n",
      "58\n",
      "60\n",
      "62\n",
      "64\n",
      "66\n",
      "68\n",
      "70\n",
      "72\n",
      "74\n",
      "76\n",
      "78\n",
      "80\n",
      "82\n",
      "84\n",
      "86\n",
      "88\n",
      "90\n",
      "92\n",
      "94\n",
      "96\n",
      "98\n",
      "100\n"
     ]
    }
   ],
   "source": [
    "for x in range(0,101,2):\n",
    "    print(x)"
   ]
  },
  {
   "cell_type": "code",
   "execution_count": null,
   "metadata": {},
   "outputs": [],
   "source": [
    "# 6. Imprimir los números primos del 1 al 50 utilizando un bucle for\n",
    "# Descripción: Utiliza un bucle for para imprimir los números primos del 1 al 50 en orden ascendente.\n",
    "# NOTA: Según la Wikipedia, un número primo es un número natural mayor que 1 que no tiene divisores positivos más que 1 y él mismo."
   ]
  },
  {
   "cell_type": "code",
   "execution_count": 1,
   "metadata": {},
   "outputs": [
    {
     "name": "stdout",
     "output_type": "stream",
     "text": [
      "2\n",
      "3\n",
      "5\n",
      "7\n",
      "11\n",
      "13\n",
      "17\n",
      "19\n",
      "23\n",
      "29\n",
      "31\n",
      "37\n",
      "41\n",
      "43\n",
      "47\n"
     ]
    }
   ],
   "source": [
    "for numero in range(1, 51): #1\n",
    "    if numero > 1:  #2\n",
    "        es_primo = True  # 3\n",
    "        for i in range(2, numero):  # 4\n",
    "            if numero % i == 0:  # 5\n",
    "                es_primo = False  # 6\n",
    "                break  # 7\n",
    "        if es_primo:  # 8\n",
    "            print(numero)  # 9"
   ]
  },
  {
   "cell_type": "markdown",
   "metadata": {},
   "source": [
    "for numero in range(1, 51): #1\n",
    "    if numero > 1:  #2\n",
    "        es_primo = True  # 3\n",
    "        for i in range(2, numero):  # 4\n",
    "            if numero % i == 0:  # 5\n",
    "                es_primo = False  # 6\n",
    "                break  # 7\n",
    "        if es_primo:  # 8\n",
    "            print(numero)  # 9\n",
    "1. Empezamos usando el bucle for, con el objetivo de iterar por nuestro rango de números (en este caso hemos escogido del 1 al 51)\n",
    "2. Para empezar a desarrollar lo que nos pide el ejercicio vamos a empezar a establecer condiciones con un if. La primera de ellas será que solo consideramos números mayores que 1, ya que 1 no se considera un número primo.\n",
    "3. Al pasar nuestra primera condición, vamos a suponer que el número es primo hasta que se demuestre lo contrario, para ello declararemos la variable \"es_primo\" y la igualaremos a la palabra reservada \"True\"\n",
    "4. Vamos a hacer otro bucle, lo haremos dentro del anterior para seguir averiguando la información que queremos extraer. Así que vamos a hacer otro for para recorrer esa lista de números, uno por uno, asignando temporalmente a \"i\" el valor de cada número en la lista. Usaremos esto para verificar si \"numero\" se puede dividir además de por 1 y por si mismo, por más números... Para lograrlo esta vez vamos a iterar desde 2 hasta \"número\" (recordamos que range incluye el primer número pero excluye el último  por lo que vamos a entenderlo como \"numero -1\". Por ej: Por ejemplo, si número es 5, range(2, numero) crea una lista de números que comienza en 2 y termina en 4 (es decir, [2, 3, 4]\n",
    "5. Una vez tenemos esa iteración, vamos a pasar a ponerle la siguiente de nuestras condiciones, en este caso será la verificación de su divisibilidad -> Si \"numero\" es divisible por \"i\" (numero % i == 0) entonces \"numero\" no es primo.\n",
    "6. Esta vez dado el paso anterior, si encontramos un divisor entonces vamos a cambiar el estado de nuestra variable \"es primo\" a la palabra reservada \"False\"\n",
    "7. Ya casi estamos! Ahora vamos a usar el comando break para salir de nuestro bucle interior (segundo bucle) ya que no  vamos a necesitar buscar más divisores\n",
    "8. Hacemos un verificación final... Después de verificar todos los posibles divisores, si \"es_primo\" aún es \"True\", entonces el número es primo.\n",
    "9. Y ahora si, después de verificar todos los posibles divisores, el código va a ejecutarse dándonos como resultado una lista con los números primos del 1 al 50 "
   ]
  },
  {
   "cell_type": "code",
   "execution_count": null,
   "metadata": {},
   "outputs": [],
   "source": [
    "# 7. Calcular el factorial de un número utilizando un bucle for\n",
    "# Descripción: Dado un número entero positivo, calcula su factorial utilizando un bucle for."
   ]
  },
  {
   "cell_type": "code",
   "execution_count": 3,
   "metadata": {},
   "outputs": [
    {
     "name": "stdout",
     "output_type": "stream",
     "text": [
      "El factorial de 5 es: 120\n"
     ]
    }
   ],
   "source": [
    "numero = 5 #1\n",
    "factorial = 1 #2\n",
    "for i in range(1, numero+1): #3\n",
    "    factorial *= i #4\n",
    "print(\"El factorial de\", numero, \"es:\", factorial) #5"
   ]
  },
  {
   "cell_type": "markdown",
   "metadata": {},
   "source": [
    "numero = 5 #1\n",
    "factorial = 1 #2\n",
    "for i in range(1, numero+1): #3\n",
    "    factorial *= i #4\n",
    "print(\"El factorial de\", numero, \"es:\", factorial) #5\n",
    "\n",
    "1. Iniciamos la resolución de nuestro ejercicio declarando una variable con el número que queremos escoger para calcular su factorial\n",
    "2. En este paso vamos a declarar otra variable llamada factorial y le daremos como valor 1. Esto es importante porque el factorial de un número se calcula multiplicando una serie de números, y necesitamos empezar con el valor 1 (ya que 1 es el elemento neutro de la multiplicación).\n",
    "3. Como siempre que queramos iterar vamos a hacer un bucle for para recorrer un rango de que abarca desde 1 hasta \"numero\" (Recordamos! Range excluye el último número, como nosotras vamos a querer incluirlo, procedemos a poner numero+1, En este caso, como \"numero\" es 5, el bucle va a iterar sobre los números 1, 2, 3, 4, y 5.)\n",
    "4. Dentro del bucle, vamos multiplicando el valor actual de factorial por \"i\", que es el número actual en nuestra iteración. Esto significa que en cada paso del bucle, multiplicamos el valor acumulado de \"factorial\" por el siguiente número en nuestra secuencia hasta llegar a 5. Por ejemplo, empezamos con 1 (valor inicial de factorial), luego 12, luego 123, luego 1234, y finalmente 12345.\n",
    "5. Lo logramos! Una vez que hemos multiplicado todos los números hasta 5, ya sólo nos queda imprimir el resultado que ente caso no dará: 120"
   ]
  },
  {
   "cell_type": "code",
   "execution_count": null,
   "metadata": {},
   "outputs": [],
   "source": []
  }
 ],
 "metadata": {
  "kernelspec": {
   "display_name": "Python 3",
   "language": "python",
   "name": "python3"
  },
  "language_info": {
   "codemirror_mode": {
    "name": "ipython",
    "version": 3
   },
   "file_extension": ".py",
   "mimetype": "text/x-python",
   "name": "python",
   "nbconvert_exporter": "python",
   "pygments_lexer": "ipython3",
   "version": "3.9.7"
  }
 },
 "nbformat": 4,
 "nbformat_minor": 2
}
