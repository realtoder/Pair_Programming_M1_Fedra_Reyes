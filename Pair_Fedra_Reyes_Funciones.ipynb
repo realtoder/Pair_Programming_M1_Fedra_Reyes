{
 "cells": [
  {
   "cell_type": "code",
   "execution_count": null,
   "metadata": {},
   "outputs": [],
   "source": [
    "# 1. Calcular el área de un círculo.\n",
    "# Descripción: Crea una función llamada calcular_area_circulo que tome el radio como parámetro y\n",
    "#  devuelva el área del círculo.\n",
    "# NOTA: Os dejamos aquí un link para recordar comose calculaba el área de un círculo."
   ]
  },
  {
   "cell_type": "code",
   "execution_count": null,
   "metadata": {},
   "outputs": [],
   "source": [
    "# A = 3.14 * r2"
   ]
  },
  {
   "cell_type": "code",
   "execution_count": 21,
   "metadata": {},
   "outputs": [
    {
     "data": {
      "text/plain": [
       "3.141592653589793"
      ]
     },
     "execution_count": 21,
     "metadata": {},
     "output_type": "execute_result"
    }
   ],
   "source": [
    "import math\n",
    "math.pi"
   ]
  },
  {
   "cell_type": "code",
   "execution_count": 35,
   "metadata": {},
   "outputs": [],
   "source": [
    "# Método 1\n",
    "def calcular_area_circulo(radio):\n",
    "    area = 3.14 * radio**2\n",
    "    return area\n",
    " "
   ]
  },
  {
   "cell_type": "code",
   "execution_count": 36,
   "metadata": {},
   "outputs": [
    {
     "data": {
      "text/plain": [
       "1661.0600000000002"
      ]
     },
     "execution_count": 36,
     "metadata": {},
     "output_type": "execute_result"
    }
   ],
   "source": [
    "calcular_area_circulo(23)"
   ]
  },
  {
   "cell_type": "code",
   "execution_count": 28,
   "metadata": {},
   "outputs": [],
   "source": [
    "# Con math\n",
    "def calcular_area_circulo(radio):\n",
    "    area = math.pi * radio**2\n",
    "    return area"
   ]
  },
  {
   "cell_type": "code",
   "execution_count": 37,
   "metadata": {},
   "outputs": [
    {
     "data": {
      "text/plain": [
       "1661.0600000000002"
      ]
     },
     "execution_count": 37,
     "metadata": {},
     "output_type": "execute_result"
    }
   ],
   "source": [
    "calcular_area_circulo(23)"
   ]
  },
  {
   "cell_type": "code",
   "execution_count": 32,
   "metadata": {},
   "outputs": [
    {
     "name": "stdout",
     "output_type": "stream",
     "text": [
      "El área del círculo es: 1017.8760197630929\n"
     ]
    }
   ],
   "source": [
    "#Creamos variable\n",
    "area_circulo_18 = calcular_area_circulo(18)\n",
    "print('El área del círculo es:' ,area_circulo_18)\n"
   ]
  },
  {
   "cell_type": "code",
   "execution_count": 33,
   "metadata": {},
   "outputs": [
    {
     "name": "stdout",
     "output_type": "stream",
     "text": [
      "El área del círculo es: 1256.64\n"
     ]
    }
   ],
   "source": [
    "radio = float(input(\"Ingresa el radio del círculo: \"))\n",
    "area_circulo = calcular_area_circulo(radio)\n",
    "print(\"El área del círculo es:\", round(area_circulo,2))"
   ]
  },
  {
   "cell_type": "code",
   "execution_count": null,
   "metadata": {},
   "outputs": [],
   "source": [
    "# 2. Contar la cantidad de caracteres en una cadena.\n",
    "# Crea una función llamada contar_caracteres que tome una cadena como parámetro y devuelva la cantidad de caracteres que contiene."
   ]
  },
  {
   "cell_type": "code",
   "execution_count": 50,
   "metadata": {},
   "outputs": [
    {
     "name": "stdout",
     "output_type": "stream",
     "text": [
      "17\n"
     ]
    }
   ],
   "source": [
    "frase1 = \"Somos unas genias\" \n",
    "def calcular_numero_letras(frase1):\n",
    "    len(frase1)\n",
    "print(len(frase1))"
   ]
  },
  {
   "cell_type": "code",
   "execution_count": null,
   "metadata": {},
   "outputs": [],
   "source": [
    "# 3. Determinar si una cadena es un palíndromo.\n",
    "#Descripción: Crea una función llamada es_palindromo que tome una cadena como parámetro \n",
    "#y devuelva True si es un palíndromo, o False si no lo es.\n",
    "#¿Qué es un palíndromo?."
   ]
  },
  {
   "cell_type": "code",
   "execution_count": 63,
   "metadata": {},
   "outputs": [],
   "source": [
    "frase2 = \"Yo hago yoga hoy\"\n",
    "def palindrommo(frase2):\n",
    "    inicio = 0\n",
    "    fin = len(frase2) -1\n",
    "    while frase2 [inicio] == frase2 [fin]:\n",
    "        if inicio >= fin:\n",
    "            return True\n",
    "            inicio += 1\n",
    "            fin -=1\n",
    "            return False\n",
    "            \n",
    "    "
   ]
  },
  {
   "cell_type": "markdown",
   "metadata": {},
   "source": [
    "def palindromo(cadena):\n",
    "inicio = 0\n",
    "fin = len(cadena) - 1\n",
    "while cadena[inicio] == cadena[fin]:\n",
    "if inicio >= fin:\n",
    "return True\n",
    "inicio += 1\n",
    "fin -= 1\n",
    "return False"
   ]
  }
 ],
 "metadata": {
  "kernelspec": {
   "display_name": "base",
   "language": "python",
   "name": "python3"
  },
  "language_info": {
   "codemirror_mode": {
    "name": "ipython",
    "version": 3
   },
   "file_extension": ".py",
   "mimetype": "text/x-python",
   "name": "python",
   "nbconvert_exporter": "python",
   "pygments_lexer": "ipython3",
   "version": "3.9.7"
  }
 },
 "nbformat": 4,
 "nbformat_minor": 2
}
